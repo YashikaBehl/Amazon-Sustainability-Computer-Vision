{
 "cells": [
  {
   "cell_type": "code",
   "execution_count": 1,
   "metadata": {
    "ExecuteTime": {
     "end_time": "2017-05-12T16:29:27.202626Z",
     "start_time": "2017-05-12T16:29:26.880465Z"
    },
    "collapsed": true
   },
   "outputs": [],
   "source": [
    "import pandas as pd\n",
    "from sklearn.preprocessing import MultiLabelBinarizer\n",
    "import numpy as np"
   ]
  },
  {
   "cell_type": "code",
   "execution_count": 2,
   "metadata": {
    "ExecuteTime": {
     "end_time": "2017-05-12T16:30:23.291046Z",
     "start_time": "2017-05-12T16:30:23.260269Z"
    },
    "collapsed": true
   },
   "outputs": [],
   "source": [
    "submission = pd.read_csv('./out/2017-05-12_1223-resnet50-L2reg-new-data-final-pred-0.922374050536.csv')"
   ]
  },
  {
   "cell_type": "code",
   "execution_count": 3,
   "metadata": {
    "ExecuteTime": {
     "end_time": "2017-05-12T16:30:28.803383Z",
     "start_time": "2017-05-12T16:30:28.789531Z"
    }
   },
   "outputs": [
    {
     "data": {
      "text/html": [
       "<div>\n",
       "<table border=\"1\" class=\"dataframe\">\n",
       "  <thead>\n",
       "    <tr style=\"text-align: right;\">\n",
       "      <th></th>\n",
       "      <th>image_name</th>\n",
       "      <th>tags</th>\n",
       "    </tr>\n",
       "  </thead>\n",
       "  <tbody>\n",
       "    <tr>\n",
       "      <th>0</th>\n",
       "      <td>test_0</td>\n",
       "      <td>clear primary</td>\n",
       "    </tr>\n",
       "    <tr>\n",
       "      <th>1</th>\n",
       "      <td>test_1</td>\n",
       "      <td>clear primary</td>\n",
       "    </tr>\n",
       "    <tr>\n",
       "      <th>2</th>\n",
       "      <td>test_2</td>\n",
       "      <td>partly_cloudy primary</td>\n",
       "    </tr>\n",
       "    <tr>\n",
       "      <th>3</th>\n",
       "      <td>test_3</td>\n",
       "      <td>clear partly_cloudy agriculture cultivation pr...</td>\n",
       "    </tr>\n",
       "    <tr>\n",
       "      <th>4</th>\n",
       "      <td>test_4</td>\n",
       "      <td>cloudy partly_cloudy primary</td>\n",
       "    </tr>\n",
       "    <tr>\n",
       "      <th>5</th>\n",
       "      <td>test_5</td>\n",
       "      <td>clear primary</td>\n",
       "    </tr>\n",
       "    <tr>\n",
       "      <th>6</th>\n",
       "      <td>test_6</td>\n",
       "      <td>clear agriculture cultivation habitation primary</td>\n",
       "    </tr>\n",
       "    <tr>\n",
       "      <th>7</th>\n",
       "      <td>test_7</td>\n",
       "      <td>clear habitation primary road</td>\n",
       "    </tr>\n",
       "    <tr>\n",
       "      <th>8</th>\n",
       "      <td>test_8</td>\n",
       "      <td>clear primary</td>\n",
       "    </tr>\n",
       "    <tr>\n",
       "      <th>9</th>\n",
       "      <td>test_9</td>\n",
       "      <td>clear haze agriculture cultivation primary</td>\n",
       "    </tr>\n",
       "    <tr>\n",
       "      <th>10</th>\n",
       "      <td>test_10</td>\n",
       "      <td>partly_cloudy primary</td>\n",
       "    </tr>\n",
       "    <tr>\n",
       "      <th>11</th>\n",
       "      <td>test_11</td>\n",
       "      <td>clear agriculture cultivation primary</td>\n",
       "    </tr>\n",
       "    <tr>\n",
       "      <th>12</th>\n",
       "      <td>test_12</td>\n",
       "      <td>cloudy</td>\n",
       "    </tr>\n",
       "    <tr>\n",
       "      <th>13</th>\n",
       "      <td>test_13</td>\n",
       "      <td>clear agriculture cultivation primary road</td>\n",
       "    </tr>\n",
       "    <tr>\n",
       "      <th>14</th>\n",
       "      <td>test_14</td>\n",
       "      <td>clear agriculture cultivation primary</td>\n",
       "    </tr>\n",
       "    <tr>\n",
       "      <th>15</th>\n",
       "      <td>test_15</td>\n",
       "      <td>clear agriculture primary</td>\n",
       "    </tr>\n",
       "    <tr>\n",
       "      <th>16</th>\n",
       "      <td>test_16</td>\n",
       "      <td>clear agriculture cultivation habitation prima...</td>\n",
       "    </tr>\n",
       "    <tr>\n",
       "      <th>17</th>\n",
       "      <td>test_17</td>\n",
       "      <td>partly_cloudy primary</td>\n",
       "    </tr>\n",
       "    <tr>\n",
       "      <th>18</th>\n",
       "      <td>test_18</td>\n",
       "      <td>clear haze primary</td>\n",
       "    </tr>\n",
       "    <tr>\n",
       "      <th>19</th>\n",
       "      <td>test_19</td>\n",
       "      <td>clear primary road water</td>\n",
       "    </tr>\n",
       "    <tr>\n",
       "      <th>20</th>\n",
       "      <td>test_20</td>\n",
       "      <td>clear agriculture cultivation primary water</td>\n",
       "    </tr>\n",
       "    <tr>\n",
       "      <th>21</th>\n",
       "      <td>test_21</td>\n",
       "      <td>clear agriculture primary water</td>\n",
       "    </tr>\n",
       "    <tr>\n",
       "      <th>22</th>\n",
       "      <td>test_22</td>\n",
       "      <td>clear agriculture cultivation habitation prima...</td>\n",
       "    </tr>\n",
       "    <tr>\n",
       "      <th>23</th>\n",
       "      <td>test_23</td>\n",
       "      <td>cloudy haze primary water</td>\n",
       "    </tr>\n",
       "    <tr>\n",
       "      <th>24</th>\n",
       "      <td>test_24</td>\n",
       "      <td>partly_cloudy agriculture primary road</td>\n",
       "    </tr>\n",
       "    <tr>\n",
       "      <th>25</th>\n",
       "      <td>test_25</td>\n",
       "      <td>clear primary</td>\n",
       "    </tr>\n",
       "    <tr>\n",
       "      <th>26</th>\n",
       "      <td>test_26</td>\n",
       "      <td>partly_cloudy agriculture habitation primary road</td>\n",
       "    </tr>\n",
       "    <tr>\n",
       "      <th>27</th>\n",
       "      <td>test_27</td>\n",
       "      <td>clear agriculture bare_ground primary</td>\n",
       "    </tr>\n",
       "    <tr>\n",
       "      <th>28</th>\n",
       "      <td>test_28</td>\n",
       "      <td>clear partly_cloudy agriculture habitation pri...</td>\n",
       "    </tr>\n",
       "    <tr>\n",
       "      <th>29</th>\n",
       "      <td>test_29</td>\n",
       "      <td>clear primary</td>\n",
       "    </tr>\n",
       "    <tr>\n",
       "      <th>...</th>\n",
       "      <td>...</td>\n",
       "      <td>...</td>\n",
       "    </tr>\n",
       "    <tr>\n",
       "      <th>61161</th>\n",
       "      <td>file_9972</td>\n",
       "      <td>clear agriculture cultivation primary</td>\n",
       "    </tr>\n",
       "    <tr>\n",
       "      <th>61162</th>\n",
       "      <td>file_9973</td>\n",
       "      <td>clear agriculture cultivation habitation prima...</td>\n",
       "    </tr>\n",
       "    <tr>\n",
       "      <th>61163</th>\n",
       "      <td>file_9974</td>\n",
       "      <td>clear primary</td>\n",
       "    </tr>\n",
       "    <tr>\n",
       "      <th>61164</th>\n",
       "      <td>file_9975</td>\n",
       "      <td>clear partly_cloudy primary</td>\n",
       "    </tr>\n",
       "    <tr>\n",
       "      <th>61165</th>\n",
       "      <td>file_9976</td>\n",
       "      <td>clear agriculture cultivation primary</td>\n",
       "    </tr>\n",
       "    <tr>\n",
       "      <th>61166</th>\n",
       "      <td>file_9977</td>\n",
       "      <td>clear primary</td>\n",
       "    </tr>\n",
       "    <tr>\n",
       "      <th>61167</th>\n",
       "      <td>file_9978</td>\n",
       "      <td>partly_cloudy primary</td>\n",
       "    </tr>\n",
       "    <tr>\n",
       "      <th>61168</th>\n",
       "      <td>file_9979</td>\n",
       "      <td>clear primary</td>\n",
       "    </tr>\n",
       "    <tr>\n",
       "      <th>61169</th>\n",
       "      <td>file_998</td>\n",
       "      <td>clear primary</td>\n",
       "    </tr>\n",
       "    <tr>\n",
       "      <th>61170</th>\n",
       "      <td>file_9980</td>\n",
       "      <td>clear primary</td>\n",
       "    </tr>\n",
       "    <tr>\n",
       "      <th>61171</th>\n",
       "      <td>file_9981</td>\n",
       "      <td>clear agriculture cultivation primary road</td>\n",
       "    </tr>\n",
       "    <tr>\n",
       "      <th>61172</th>\n",
       "      <td>file_9982</td>\n",
       "      <td>clear agriculture habitation primary road</td>\n",
       "    </tr>\n",
       "    <tr>\n",
       "      <th>61173</th>\n",
       "      <td>file_9983</td>\n",
       "      <td>clear primary</td>\n",
       "    </tr>\n",
       "    <tr>\n",
       "      <th>61174</th>\n",
       "      <td>file_9984</td>\n",
       "      <td>clear primary</td>\n",
       "    </tr>\n",
       "    <tr>\n",
       "      <th>61175</th>\n",
       "      <td>file_9985</td>\n",
       "      <td>clear primary</td>\n",
       "    </tr>\n",
       "    <tr>\n",
       "      <th>61176</th>\n",
       "      <td>file_9986</td>\n",
       "      <td>clear primary</td>\n",
       "    </tr>\n",
       "    <tr>\n",
       "      <th>61177</th>\n",
       "      <td>file_9987</td>\n",
       "      <td>clear agriculture habitation primary road</td>\n",
       "    </tr>\n",
       "    <tr>\n",
       "      <th>61178</th>\n",
       "      <td>file_9988</td>\n",
       "      <td>clear primary</td>\n",
       "    </tr>\n",
       "    <tr>\n",
       "      <th>61179</th>\n",
       "      <td>file_9989</td>\n",
       "      <td>clear agriculture habitation primary road</td>\n",
       "    </tr>\n",
       "    <tr>\n",
       "      <th>61180</th>\n",
       "      <td>file_999</td>\n",
       "      <td>clear agriculture habitation primary road</td>\n",
       "    </tr>\n",
       "    <tr>\n",
       "      <th>61181</th>\n",
       "      <td>file_9990</td>\n",
       "      <td>clear primary</td>\n",
       "    </tr>\n",
       "    <tr>\n",
       "      <th>61182</th>\n",
       "      <td>file_9991</td>\n",
       "      <td>clear agriculture cultivation primary road</td>\n",
       "    </tr>\n",
       "    <tr>\n",
       "      <th>61183</th>\n",
       "      <td>file_9992</td>\n",
       "      <td>clear primary</td>\n",
       "    </tr>\n",
       "    <tr>\n",
       "      <th>61184</th>\n",
       "      <td>file_9993</td>\n",
       "      <td>clear primary water</td>\n",
       "    </tr>\n",
       "    <tr>\n",
       "      <th>61185</th>\n",
       "      <td>file_9994</td>\n",
       "      <td>cloudy partly_cloudy primary water</td>\n",
       "    </tr>\n",
       "    <tr>\n",
       "      <th>61186</th>\n",
       "      <td>file_9995</td>\n",
       "      <td>cloudy</td>\n",
       "    </tr>\n",
       "    <tr>\n",
       "      <th>61187</th>\n",
       "      <td>file_9996</td>\n",
       "      <td>clear primary water</td>\n",
       "    </tr>\n",
       "    <tr>\n",
       "      <th>61188</th>\n",
       "      <td>file_9997</td>\n",
       "      <td>clear primary road water</td>\n",
       "    </tr>\n",
       "    <tr>\n",
       "      <th>61189</th>\n",
       "      <td>file_9998</td>\n",
       "      <td>cloudy</td>\n",
       "    </tr>\n",
       "    <tr>\n",
       "      <th>61190</th>\n",
       "      <td>file_9999</td>\n",
       "      <td>clear habitation primary road</td>\n",
       "    </tr>\n",
       "  </tbody>\n",
       "</table>\n",
       "<p>61191 rows × 2 columns</p>\n",
       "</div>"
      ],
      "text/plain": [
       "      image_name                                               tags\n",
       "0         test_0                                      clear primary\n",
       "1         test_1                                      clear primary\n",
       "2         test_2                              partly_cloudy primary\n",
       "3         test_3  clear partly_cloudy agriculture cultivation pr...\n",
       "4         test_4                       cloudy partly_cloudy primary\n",
       "5         test_5                                      clear primary\n",
       "6         test_6   clear agriculture cultivation habitation primary\n",
       "7         test_7                      clear habitation primary road\n",
       "8         test_8                                      clear primary\n",
       "9         test_9         clear haze agriculture cultivation primary\n",
       "10       test_10                              partly_cloudy primary\n",
       "11       test_11              clear agriculture cultivation primary\n",
       "12       test_12                                             cloudy\n",
       "13       test_13         clear agriculture cultivation primary road\n",
       "14       test_14              clear agriculture cultivation primary\n",
       "15       test_15                          clear agriculture primary\n",
       "16       test_16  clear agriculture cultivation habitation prima...\n",
       "17       test_17                              partly_cloudy primary\n",
       "18       test_18                                 clear haze primary\n",
       "19       test_19                           clear primary road water\n",
       "20       test_20        clear agriculture cultivation primary water\n",
       "21       test_21                    clear agriculture primary water\n",
       "22       test_22  clear agriculture cultivation habitation prima...\n",
       "23       test_23                          cloudy haze primary water\n",
       "24       test_24             partly_cloudy agriculture primary road\n",
       "25       test_25                                      clear primary\n",
       "26       test_26  partly_cloudy agriculture habitation primary road\n",
       "27       test_27              clear agriculture bare_ground primary\n",
       "28       test_28  clear partly_cloudy agriculture habitation pri...\n",
       "29       test_29                                      clear primary\n",
       "...          ...                                                ...\n",
       "61161  file_9972              clear agriculture cultivation primary\n",
       "61162  file_9973  clear agriculture cultivation habitation prima...\n",
       "61163  file_9974                                      clear primary\n",
       "61164  file_9975                        clear partly_cloudy primary\n",
       "61165  file_9976              clear agriculture cultivation primary\n",
       "61166  file_9977                                      clear primary\n",
       "61167  file_9978                              partly_cloudy primary\n",
       "61168  file_9979                                      clear primary\n",
       "61169   file_998                                      clear primary\n",
       "61170  file_9980                                      clear primary\n",
       "61171  file_9981         clear agriculture cultivation primary road\n",
       "61172  file_9982          clear agriculture habitation primary road\n",
       "61173  file_9983                                      clear primary\n",
       "61174  file_9984                                      clear primary\n",
       "61175  file_9985                                      clear primary\n",
       "61176  file_9986                                      clear primary\n",
       "61177  file_9987          clear agriculture habitation primary road\n",
       "61178  file_9988                                      clear primary\n",
       "61179  file_9989          clear agriculture habitation primary road\n",
       "61180   file_999          clear agriculture habitation primary road\n",
       "61181  file_9990                                      clear primary\n",
       "61182  file_9991         clear agriculture cultivation primary road\n",
       "61183  file_9992                                      clear primary\n",
       "61184  file_9993                                clear primary water\n",
       "61185  file_9994                 cloudy partly_cloudy primary water\n",
       "61186  file_9995                                             cloudy\n",
       "61187  file_9996                                clear primary water\n",
       "61188  file_9997                           clear primary road water\n",
       "61189  file_9998                                             cloudy\n",
       "61190  file_9999                      clear habitation primary road\n",
       "\n",
       "[61191 rows x 2 columns]"
      ]
     },
     "execution_count": 3,
     "metadata": {},
     "output_type": "execute_result"
    }
   ],
   "source": [
    "submission"
   ]
  },
  {
   "cell_type": "code",
   "execution_count": 7,
   "metadata": {
    "ExecuteTime": {
     "end_time": "2017-05-12T16:34:01.913402Z",
     "start_time": "2017-05-12T16:34:00.732332Z"
    }
   },
   "outputs": [],
   "source": [
    "subm_proba = np.loadtxt('./out/2017-05-12_1223-resnet50-L2reg-new-data-raw-pred-0.922374050536.csv',\n",
    "                       delimiter=';')"
   ]
  },
  {
   "cell_type": "code",
   "execution_count": 24,
   "metadata": {
    "ExecuteTime": {
     "end_time": "2017-05-12T16:41:12.524418Z",
     "start_time": "2017-05-12T16:41:12.521184Z"
    }
   },
   "outputs": [
    {
     "data": {
      "text/plain": [
       "array([  6.73540473e-01,   2.23873969e-04,   2.42309541e-01,\n",
       "         2.43358538e-02,   2.59449072e-02,   1.80957664e-04,\n",
       "         2.04540486e-03,   1.16751017e-03,   4.46651131e-04,\n",
       "         2.14810512e-04,   1.80665236e-02,   4.23510931e-03,\n",
       "         9.99252498e-01,   1.92479733e-02,   5.28321252e-04,\n",
       "         7.72662694e-04,   2.94506289e-02])"
      ]
     },
     "execution_count": 24,
     "metadata": {},
     "output_type": "execute_result"
    }
   ],
   "source": [
    "subm_proba[18]"
   ]
  },
  {
   "cell_type": "code",
   "execution_count": 12,
   "metadata": {
    "ExecuteTime": {
     "end_time": "2017-05-12T16:36:40.023354Z",
     "start_time": "2017-05-12T16:36:40.019589Z"
    },
    "collapsed": true
   },
   "outputs": [],
   "source": [
    "import matplotlib.pyplot as plt\n",
    "%matplotlib inline\n",
    "from PIL import Image\n"
   ]
  },
  {
   "cell_type": "code",
   "execution_count": 28,
   "metadata": {
    "ExecuteTime": {
     "end_time": "2017-05-12T17:09:40.866361Z",
     "start_time": "2017-05-12T17:09:40.863627Z"
    }
   },
   "outputs": [],
   "source": [
    "img = Image.open(\"./data/test-jpg/test_185.jpg\")"
   ]
  },
  {
   "cell_type": "code",
   "execution_count": 29,
   "metadata": {
    "ExecuteTime": {
     "end_time": "2017-05-12T17:09:41.260522Z",
     "start_time": "2017-05-12T17:09:41.257806Z"
    },
    "collapsed": true
   },
   "outputs": [],
   "source": [
    "img = img.convert('RGB')"
   ]
  },
  {
   "cell_type": "code",
   "execution_count": 30,
   "metadata": {
    "ExecuteTime": {
     "end_time": "2017-05-12T17:09:41.793208Z",
     "start_time": "2017-05-12T17:09:41.661497Z"
    }
   },
   "outputs": [
    {
     "data": {
      "text/plain": [
       "<matplotlib.image.AxesImage at 0x7f11007fca20>"
      ]
     },
     "execution_count": 30,
     "metadata": {},
     "output_type": "execute_result"
    },
    {
     "data": {
      "image/png": "[encoded data removed]",
      "text/plain": [
       "<matplotlib.figure.Figure at 0x7f110087be80>"
      ]
     },
     "metadata": {},
     "output_type": "display_data"
    }
   ],
   "source": [
    "plt.imshow(img)"
   ]
  },
  {
   "cell_type": "code",
   "execution_count": null,
   "metadata": {
    "collapsed": true
   },
   "outputs": [],
   "source": []
  }
 ],
 "metadata": {
  "kernelspec": {
   "display_name": "Python 3",
   "language": "python",
   "name": "python3"
  },
  "language_info": {
   "codemirror_mode": {
    "name": "ipython",
    "version": 3
   },
   "file_extension": ".py",
   "mimetype": "text/x-python",
   "name": "python",
   "nbconvert_exporter": "python",
   "pygments_lexer": "ipython3",
   "version": "3.6.0"
  }
 },
 "nbformat": 4,
 "nbformat_minor": 2
}
